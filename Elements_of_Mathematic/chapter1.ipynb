{
 "cells": [
  {
   "cell_type": "markdown",
   "metadata": {},
   "source": [
    "All is number"
   ]
  },
  {
   "cell_type": "code",
   "execution_count": 1,
   "metadata": {},
   "outputs": [
    {
     "name": "stdout",
     "output_type": "stream",
     "text": [
      "pi =  3.141592653589793\n",
      "e =  2.718281828459045\n",
      "sqrt(2) =  1.4142135623730951\n"
     ]
    }
   ],
   "source": [
    "import math\n",
    "\n",
    "# Print the value of pi\n",
    "print ('pi = ', math.pi)\n",
    "\n",
    "# Print the value of e\n",
    "print ('e = ', math.e)\n",
    "\n",
    "# Print the value of square root of 2\n",
    "print ('sqrt(2) = ', math.sqrt(2))"
   ]
  },
  {
   "cell_type": "code",
   "execution_count": 2,
   "metadata": {},
   "outputs": [
    {
     "name": "stdout",
     "output_type": "stream",
     "text": [
      "print 1000 digits of pi behind decimal point\n",
      "3.1415926535897932384626433832795028841971693993751058209749445923078164062862089986280348253421170679821480865132823066470938446095505822317253594081284811174502841027019385211055596446229489549303819644288109756659334461284756482337867831652712019091456485669234603486104543266482133936072602491412737245870066063155881748815209209628292540917153643678925903600113305305488204665213841469519415116094330572703657595919530921861173819326117931051185480744623799627495673518857527248912279381830119491298336733624406566430860213949463952247371907021798609437027705392171762931767523846748184676694051320005681271452635608277857713427577896091736371787214684409012249534301465495853710507922796892589235420199561121290219608640344181598136297747713099605187072113499999983729780499510597317328160963185950244594553469083026425223082533446850352619311881710100031378387528865875332083814206171776691473035982534904287554687311595628638823537875937519577818577805321712268066130019278766111959092164201989\n",
      "print 1000 digits of e behind decimal point\n",
      "2.7182818284590452353602874713526624977572470936999595749669676277240766303535475945713821785251664274274663919320030599218174135966290435729003342952605956307381323286279434907632338298807531952510190115738341879307021540891499348841675092447614606680822648001684774118537423454424371075390777449920695517027618386062613313845830007520449338265602976067371132007093287091274437470472306969772093101416928368190255151086574637721112523897844250569536967707854499699679468644549059879316368892300987931277361782154249992295763514822082698951936680331825288693984964651058209392398294887933203625094431173012381970684161403970198376793206832823764648042953118023287825098194558153017567173613320698112509961818815930416903515988885193458072738667385894228792284998920868058257492796104841984443634632449684875602336248270419786232090021609902353043699418491463140934317381436405462531520961836908887070167683964243781405927145635490613031072085103837505101157477041718986106873969655212671546889570350354\n",
      "print 1000 digits of sqrt(2) behind decimal point\n",
      "1.4142135623730950488016887242096980785696718753769480731766797379907324784621070388503875343276415727350138462309122970249248360558507372126441214970999358314132226659275055927557999505011527820605714701095599716059702745345968620147285174186408891986095523292304843087143214508397626036279952514079896872533965463318088296406206152583523950547457502877599617298355752203375318570113543746034084988471603868999706990048150305440277903164542478230684929369186215805784631115966687130130156185689872372352885092648612494977154218334204285686060146824720771435854874155657069677653720226485447015858801620758474922657226002085584466521458398893944370926591800311388246468157082630100594858704003186480342194897278290641045072636881313739855256117322040245091227700226941127573627280495738108967504018369868368450725799364729060762996941380475654823728997180326802474420629269124859052181004459842150591120249441341728531478105803603371077309182869314710171111683916581726889419758716582152128229518488472\n"
     ]
    }
   ],
   "source": [
    "from mpmath import mp\n",
    "\n",
    "mp.dps = 1000 + 1\n",
    "\n",
    "print('print 1000 digits of pi behind decimal point')\n",
    "print(mp.pi)\n",
    "\n",
    "print('print 1000 digits of e behind decimal point')\n",
    "print(mp.e)\n",
    "\n",
    "print('print 1000 digits of sqrt(2) behind decimal point')\n",
    "print(mp.sqrt(2))\n"
   ]
  },
  {
   "cell_type": "code",
   "execution_count": null,
   "metadata": {},
   "outputs": [],
   "source": [
    "# A number is even if division by 2 gives a remainder of 0.\n",
    "# If the remainder is 1, it is an odd number.\n",
    "\n",
    "num = float(input(\"Enter a number: \"))\n",
    "\n",
    "if num.is_integer():\n",
    "\n",
    "    if (num % 2) == 0:\n",
    "       print(\"{0} is even \".format(int(num)))\n",
    "    else:\n",
    "       print(\"{0} is odd \".format(int(num)))\n",
    "\n",
    "else:\n",
    "    print(\"{0} is not an integer \".format(num))"
   ]
  },
  {
   "cell_type": "code",
   "execution_count": 3,
   "metadata": {},
   "outputs": [
    {
     "name": "stdout",
     "output_type": "stream",
     "text": [
      "The sum of 2 and 3 is 5\n"
     ]
    }
   ],
   "source": [
    "num1 = 2\n",
    "num2 = 3\n",
    "\n",
    "# add two numbers\n",
    "sum = num1 + num2\n",
    "\n",
    "# display the computation\n",
    "print('The sum of {0} and {1} is {2}'.format(num1, num2, sum))"
   ]
  },
  {
   "cell_type": "code",
   "execution_count": 4,
   "metadata": {},
   "outputs": [
    {
     "name": "stdout",
     "output_type": "stream",
     "text": [
      "The sum of 1 and 2 is 3.0\n"
     ]
    }
   ],
   "source": [
    "# user input numbers\n",
    "num1 = input('Enter first number: ')\n",
    "num2 = input('Enter second number: ')\n",
    "\n",
    "# add two numbers\n",
    "sum = float(num1) + float(num2)\n",
    "\n",
    "# display the computation\n",
    "print('The sum of {0} and {1} is {2}'.format(num1, num2, sum))"
   ]
  },
  {
   "cell_type": "code",
   "execution_count": 5,
   "metadata": {},
   "outputs": [
    {
     "name": "stdout",
     "output_type": "stream",
     "text": [
      "[ 1.  2.  3.  4.  5.  6.  7.  8.  9. 10.]\n",
      "[ 1.  3.  6. 10. 15. 21. 28. 36. 45. 55.]\n"
     ]
    }
   ],
   "source": [
    "import numpy as np\n",
    "\n",
    "a_i = np.linspace(1,10,10)  #(start,end,num)  num:specifies the number of samples to generate\n",
    "print(a_i)\n",
    "\n",
    "a_i_cumsum = np.cumsum(a_i) #Input array (array-like)\n",
    "print(a_i_cumsum)"
   ]
  },
  {
   "cell_type": "code",
   "execution_count": null,
   "metadata": {},
   "outputs": [],
   "source": [
    "num1 = 5\n",
    "num2 = 3\n",
    "\n",
    "# add two numbers\n",
    "diff = num1 - num2\n",
    "\n",
    "# display the computation\n",
    "print('The difference of {0} and {1} is {2}'.format(num1, num2, diff))\n"
   ]
  },
  {
   "cell_type": "code",
   "execution_count": null,
   "metadata": {},
   "outputs": [],
   "source": [
    "import numpy as np\n",
    "\n",
    "# row vector transposed to a column vector\n",
    "a_row = np.array([[1, 2, 3]])\n",
    "\n",
    "b = a_row.T\n",
    "\n",
    "b_col = np.array([[1],[2],[3]])\n",
    "\n",
    "a = b_col.T"
   ]
  },
  {
   "cell_type": "code",
   "execution_count": null,
   "metadata": {},
   "outputs": [],
   "source": [
    "import numpy as np\n",
    "\n",
    "A = np.array([[1, 2, 3],\n",
    "              [4, 5, 6]])\n",
    "\n",
    "A_first_col = A[:,0] # saved as one dimension row\n",
    "\n",
    "A_first_col_V2 = A[:,[0]] # saved as a column\n",
    "\n",
    "A_first_second_col_V2 = A[:,[0,1]] # extract first and second columns\n",
    "\n",
    "A_first_third_col_V2 = A[:,[0,2]] # extract first and third columns\n",
    "\n",
    "A_first_row = A[[0],:] # extract first row\n",
    "\n",
    "A_second_row = A[[1],:] # extract second row\n",
    "\n",
    "A_second_row_first_col = A[[1],[0]] # i = 2, j = 1"
   ]
  },
  {
   "cell_type": "code",
   "execution_count": null,
   "metadata": {},
   "outputs": [],
   "source": [
    "list1=[1, 2, 3]\n",
    "list2=[4, 5, 6]\n",
    "print([x + y for x, y in zip(list1, list2)])\n",
    "\n",
    "print(list(map(lambda x,y:x+y, list1, list2)))\n",
    "\n",
    "import numpy as np\n",
    "\n",
    "x = np.array(list1)\n",
    "y = np.array(list2)\n",
    "print(x+y)\n",
    "\n",
    "print(np.add(list1,list2))"
   ]
  },
  {
   "cell_type": "code",
   "execution_count": null,
   "metadata": {},
   "outputs": [],
   "source": [
    "A = [[1, 2, 3],\n",
    "     [4, 5, 6]]\n",
    "\n",
    "B = [[1, 0, 0],\n",
    "     [0, 1, 0]]\n",
    "\n",
    "A_plus_B = [[A[i][j] + B[i][j]  \n",
    "            for j in range(len(A[0]))] \n",
    "            for i in range(len(A))]\n",
    "\n",
    "print(A_plus_B)"
   ]
  },
  {
   "cell_type": "code",
   "execution_count": null,
   "metadata": {},
   "outputs": [],
   "source": [
    "import numpy as np\n",
    "\n",
    "A = [[1, 2, 3],\n",
    "     [4, 5, 6]]\n",
    "\n",
    "B = [[1, 0, 0],\n",
    "     [0, 1, 0]]\n",
    "\n",
    "print(np.array(A) + np.array(B))\n",
    "\n",
    "print(np.add(A, B))"
   ]
  },
  {
   "cell_type": "code",
   "execution_count": 6,
   "metadata": {},
   "outputs": [
    {
     "data": {
      "image/png": "[encoded data removed]",
      "text/plain": [
       "<Figure size 600x500 with 2 Axes>"
      ]
     },
     "metadata": {},
     "output_type": "display_data"
    }
   ],
   "source": [
    "#圆周率小数点后1024位热图\n",
    "import numpy as np\n",
    "from mpmath import mp\n",
    "import seaborn as sns\n",
    "import matplotlib.pyplot as plt\n",
    "import pandas as pd\n",
    "\n",
    "#取pi的1024位小数\n",
    "mp.dps = 1024 + 1   # 要出正方形热图，1024个，就是32*32\n",
    "pi = mp.pi\n",
    "# print(pi)\n",
    "\n",
    "# 转换为字符串\n",
    "pi = str(pi)\n",
    "\n",
    "# 去除小数点\n",
    "pi = pi.replace('.', '')\n",
    "\n",
    "# 取后1024位  \n",
    "pi_1024 = pi[1:]\n",
    "# print(pi_1024)\n",
    "\n",
    "#把整数分割为数组\n",
    "pi_1024List = list(pi_1024)\n",
    "# print(pi_1024List)\n",
    "\n",
    "#字符串数组转换为数字数组：因为元素是字符串不能在热图里使用，所以必须都转成int或float\n",
    "pi_1024N = [ int(x) for x in pi_1024List ]     #列表推导式\n",
    "# print(pi_1024N)\n",
    "\n",
    "#一维数组转多维数组：\n",
    "'''\n",
    "用 numpy.array()函数定义向量时如果只用一层中括号 []，比如\n",
    "numpy.array([1, 2, 3])，得到的结果只有一个维度。有两层中括号 [[]]，\n",
    "numpy.array([[1, 2, 3]]) 得到的结果有两个维度\n",
    "'''\n",
    "array = np.array(pi_1024N)\n",
    "pi_array = array.reshape(32,32)\n",
    "# print(pi_array)\n",
    "\n",
    "#绘制热图\n",
    "sns.set(rc = {'figure.figsize':(6,5)})\n",
    "sns.heatmap(pi_array, cmap='RdYlBu_r', xticklabels = False, yticklabels = False)\n",
    "plt.show()\n"
   ]
  }
 ],
 "metadata": {
  "kernelspec": {
   "display_name": "base",
   "language": "python",
   "name": "python3"
  },
  "language_info": {
   "codemirror_mode": {
    "name": "ipython",
    "version": 3
   },
   "file_extension": ".py",
   "mimetype": "text/x-python",
   "name": "python",
   "nbconvert_exporter": "python",
   "pygments_lexer": "ipython3",
   "version": "3.11.5"
  }
 },
 "nbformat": 4,
 "nbformat_minor": 2
}
