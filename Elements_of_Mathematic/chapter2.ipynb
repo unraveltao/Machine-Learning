{
 "cells": [
  {
   "cell_type": "markdown",
   "metadata": {},
   "source": [
    "# Multiplication and Dividion"
   ]
  },
  {
   "cell_type": "code",
   "execution_count": 9,
   "metadata": {},
   "outputs": [
    {
     "name": "stdout",
     "output_type": "stream",
     "text": [
      "The product of 2 and 3 is 6\n"
     ]
    }
   ],
   "source": [
    "num1 = 2\n",
    "num2 = 3\n",
    "\n",
    "# add two numbers\n",
    "prod = num1*num2\n",
    "\n",
    "# display the computation\n",
    "print('The product of {0} and {1} is {2}'.format(num1, num2, prod))"
   ]
  },
  {
   "cell_type": "code",
   "execution_count": 10,
   "metadata": {},
   "outputs": [
    {
     "name": "stdout",
     "output_type": "stream",
     "text": [
      "The factorial of 2  is  2\n"
     ]
    }
   ],
   "source": [
    "# define a function to calculate factorial\n",
    "#input 输入一个数据，返回类型string\n",
    "num = int(input(\"Enter an integer: \"))\n",
    "\n",
    "factorial = 1\n",
    "\n",
    "# check if the number is negative, positive or zero\n",
    "if num < 0:\n",
    "    print(\"Factorial does not exist for negative numbers\")\n",
    "elif num == 0:\n",
    "    print(\"The factorial of 0 is \", factorial)\n",
    "else:\n",
    "    for i in range(1,num + 1):\n",
    "       factorial = factorial*i\n",
    "    print(\"The factorial of\",num,\" is \",factorial)"
   ]
  },
  {
   "cell_type": "code",
   "execution_count": 21,
   "metadata": {},
   "outputs": [
    {
     "name": "stdout",
     "output_type": "stream",
     "text": [
      "[ 1.  2.  3.  4.  5.  6.  7.  8.  9. 10.]\n",
      "[      1.       2.       6.      24.     120.     720.    5040.   40320.\n",
      "  362880. 3628800.]\n"
     ]
    }
   ],
   "source": [
    "import numpy as np\n",
    "\n",
    "a_i = np.linspace(1,10,10)\n",
    "print(a_i)\n",
    "\n",
    "a_i_cumprod = np.cumprod(a_i)  #累乘\n",
    "np.set_printoptions(suppress=True)   # Suppress scientific notation for printing\n",
    "print(a_i_cumprod)"
   ]
  },
  {
   "cell_type": "code",
   "execution_count": 12,
   "metadata": {},
   "outputs": [
    {
     "name": "stdout",
     "output_type": "stream",
     "text": [
      "The division of 6 over 3 is 2.0\n"
     ]
    }
   ],
   "source": [
    "num1 = 6\n",
    "num2 = 3\n",
    "\n",
    "# add two numbers\n",
    "division = num1/num2\n",
    "\n",
    "# display the computation\n",
    "print('The division of {0} over {1} is {2}'.format(num1, num2, division))"
   ]
  },
  {
   "cell_type": "code",
   "execution_count": 13,
   "metadata": {},
   "outputs": [
    {
     "name": "stdout",
     "output_type": "stream",
     "text": [
      "The remainder of 7 over 2 is 1\n"
     ]
    }
   ],
   "source": [
    "num1 = 7\n",
    "num2 = 2\n",
    "\n",
    "# add two numbers\n",
    "remainder = num1%num2\n",
    "\n",
    "# display the computation\n",
    "print('The remainder of {0} over {1} is {2}'.format(num1, num2, remainder))"
   ]
  },
  {
   "cell_type": "code",
   "execution_count": 24,
   "metadata": {},
   "outputs": [
    {
     "name": "stdout",
     "output_type": "stream",
     "text": [
      "[[2]\n",
      " [4]\n",
      " [6]]\n",
      "[[2 4 6]]\n",
      "[[ 2  4  6]\n",
      " [ 8 10 12]]\n"
     ]
    }
   ],
   "source": [
    "import numpy as np\n",
    "\n",
    "# define a column vector\n",
    "a_col = np.array([[1], [2], [3]])\n",
    "\n",
    "b_col = 2*a_col\n",
    "print(b_col)\n",
    "\n",
    "# define a row vector\n",
    "a_row = np.array([[1, 2, 3]])\n",
    "\n",
    "b_row = 2*a_row\n",
    "print(b_row)\n",
    "\n",
    "# define a matrix\n",
    "A = np.array([[1, 2, 3],\n",
    "              [4, 5, 6]])\n",
    "\n",
    "B = 2*A\n",
    "print(B)"
   ]
  },
  {
   "cell_type": "code",
   "execution_count": 2,
   "metadata": {},
   "outputs": [
    {
     "name": "stdout",
     "output_type": "stream",
     "text": [
      "[[16]]\n",
      "[[16]]\n",
      "16\n",
      "[[-1  0  1]\n",
      " [-2  0  2]\n",
      " [-3  0  3]]\n",
      "2\n"
     ]
    }
   ],
   "source": [
    "#inner product\n",
    "import numpy as np\n",
    "#向量内积结果是标量\n",
    "# row vector dot product \n",
    "\n",
    "a_row = np.array([[1, 2, 3]])\n",
    "b_row = np.array([[4, 3, 2]])\n",
    "\n",
    "a_dot_b = np.inner(a_row, b_row)  #计算向量的标量积/内积/点积\n",
    "\n",
    "print(a_dot_b)\n",
    "print(np.inner(a_row[:], b_row[:]))\n",
    "print(np.sum(a_row * b_row))\n",
    "\n",
    "#%% column vector dot product \n",
    "\n",
    "a_col = np.array([[1],  [2], [3]]) #两个列向量的内积是张量积 ,得到矩阵\n",
    "b_col = np.array([[-1], [0], [1]])\n",
    "\n",
    "a_dot_b = np.inner(a_col, b_col)\n",
    "print(a_dot_b) # tensor product\n",
    "\n",
    "print(np.sum(a_col * b_col))"
   ]
  },
  {
   "cell_type": "code",
   "execution_count": 16,
   "metadata": {},
   "outputs": [
    {
     "name": "stdout",
     "output_type": "stream",
     "text": [
      "[[ 1  4  9]\n",
      " [-4  0  6]]\n"
     ]
    }
   ],
   "source": [
    "#逐项积（piecewise product)\n",
    "#对应元素分别相乘，结果为相同矩阵\n",
    "import numpy as np\n",
    "a = np.array([[1, 2, 3]])\n",
    "b = np.array([[4, 5, 6]])\n",
    "\n",
    "# calculate element-wise product of row vectors\n",
    "a_times_b = a*b\n",
    "\n",
    "A = np.array([[1, 2, 3],\n",
    "              [4, 5, 6]])\n",
    "\n",
    "B = np.array([[1, 2, 3],\n",
    "              [-1, 0, 1]])\n",
    "\n",
    "# calculate element-wise product of matrices\n",
    "A_times_B = A*B\n",
    "print(A_times_B)"
   ]
  },
  {
   "cell_type": "code",
   "execution_count": 9,
   "metadata": {},
   "outputs": [
    {
     "data": {
      "text/plain": [
       "(array([0.5, 1.5, 2.5, 3.5, 4.5, 5.5]),\n",
       " [Text(0, 0.5, '1'),\n",
       "  Text(0, 1.5, '2'),\n",
       "  Text(0, 2.5, '3'),\n",
       "  Text(0, 3.5, '4'),\n",
       "  Text(0, 4.5, '5'),\n",
       "  Text(0, 5.5, '6')])"
      ]
     },
     "execution_count": 9,
     "metadata": {},
     "output_type": "execute_result"
    },
    {
     "data": {
      "image/png": "[encoded data removed]",
      "text/plain": [
       "<Figure size 1200x300 with 8 Axes>"
      ]
     },
     "metadata": {},
     "output_type": "display_data"
    },
    {
     "data": {
      "image/png": "[encoded data removed]",
      "text/plain": [
       "<Figure size 1200x300 with 11 Axes>"
      ]
     },
     "metadata": {},
     "output_type": "display_data"
    }
   ],
   "source": [
    "import numpy as np\n",
    "from matplotlib import pyplot as plt\n",
    "import seaborn as sns\n",
    "'''\n",
    "    https://seaborn.pydata.org/generated/seaborn.heatmap.html\n",
    "    seaborn中heatmap源码\n",
    "'''\n",
    "# Repeatability\n",
    "#固定随机数种子--固定随机数\n",
    "np.random.seed(7)\n",
    "\n",
    "# Generate matrix A and B\n",
    "m = 6\n",
    "p = 3\n",
    "n = 4\n",
    "'''\n",
    "    numpy.random.uniform() 函数产生满足连续均匀分布的随机数\n",
    "    范围（-1，1），个数（m*p=6）\n",
    "    重塑形状reshape(m: row,p :column)\n",
    "'''\n",
    "A = np.random.uniform(-1,1,m*p).reshape(m, p)\n",
    "B = np.random.uniform(-1,1,p*n).reshape(p, n)\n",
    "C = A@B\n",
    "all_max = 1\n",
    "all_min = -1\n",
    "######   matrix multiplication, first perspective   #####\n",
    "\n",
    "fig, axs = plt.subplots(1, 5, figsize=(12, 3))\n",
    "\n",
    "\n",
    "'''\n",
    "    热图采用的 colormap 为'RdBu_r'，'Rd'是红色的意思，'Bu'是蓝色，'_r'代表“翻转(reverse)”\n",
    "    cmap\n",
    "    Values to anchor the colormap, otherwise they are inferred from the data and other keyword arguments.\n",
    "    \n",
    "    matplotlib colormap name or object, or list of colors, optional\n",
    "    The mapping from data values to color space. If not provided, the default will depend on whether center is set.\n",
    "    \n",
    "    vmin, vmax (floats, optional) 用于锚定颜色的值\n",
    "'''\n",
    "#picture 1\n",
    "plt.sca(axs[0])   #第一幅图\n",
    "ax = sns.heatmap(A,cmap='RdBu_r',vmax = all_max,vmin = all_min,\n",
    "                 cbar_kws={\"orientation\": \"horizontal\"},\n",
    "                 yticklabels=np.arange(1,m+1), xticklabels=np.arange(1,p+1))\n",
    "ax.set_aspect(\"equal\")  #使小方块一样\n",
    "plt.title('$A$')        #名称\n",
    "plt.yticks(rotation=0)\n",
    "\n",
    "#picture 2\n",
    "plt.sca(axs[1])\n",
    "plt.title('$@$')\n",
    "plt.axis('off')   #关闭坐标轴\n",
    "\n",
    "#picture 3\n",
    "plt.sca(axs[2])\n",
    "ax = sns.heatmap(B,cmap='RdBu_r',vmax = all_max,vmin = all_min,\n",
    "                 cbar_kws={\"orientation\": \"horizontal\"},\n",
    "                 yticklabels=np.arange(1,p+1), xticklabels=np.arange(1,n+1))\n",
    "ax.set_aspect(\"equal\")\n",
    "plt.title('$B$')\n",
    "plt.yticks(rotation=0)  #没啥用，\n",
    "\n",
    "#picture 4\n",
    "plt.sca(axs[3])\n",
    "plt.title('$=$')\n",
    "plt.axis('off')  \n",
    "\n",
    "#picture 5\n",
    "plt.sca(axs[4])\n",
    "ax = sns.heatmap(C,cmap='RdBu_r',vmax = all_max,vmin = all_min,\n",
    "                 cbar_kws={\"orientation\": \"horizontal\"},\n",
    "                 yticklabels=np.arange(1,m+1), xticklabels=np.arange(1,n+1))\n",
    "ax.set_aspect(\"equal\")\n",
    "plt.title('$C$')\n",
    "plt.yticks(rotation=0)\n",
    "\n",
    "\n",
    "\n",
    "#PCA（Principal Component Analysis）主成分析法\n",
    "######   matrix multiplication, second perspective   #####\n",
    "\n",
    "C1 = A[:,[0]]@B[[0],:]    #extract first row  @  extract first column\n",
    "\n",
    "C2 = A[:,[1]]@B[[1],:]    #extract second row  @  extract second column\n",
    "\n",
    "C3 = A[:,[2]]@B[[2],:]    #extract third row  @  extract third column\n",
    "\n",
    "fig, axs = plt.subplots(1, 7, figsize=(12, 3))\n",
    "\n",
    "plt.sca(axs[0])\n",
    "ax = sns.heatmap(C1,cmap='RdBu_r',vmax = all_max,vmin = all_min,\n",
    "                 cbar_kws={\"orientation\": \"horizontal\"},\n",
    "                 yticklabels=np.arange(1,m+1), xticklabels=np.arange(1,n+1))\n",
    "ax.set_aspect(\"equal\")\n",
    "plt.title('$C_1$')\n",
    "plt.yticks(rotation=0)\n",
    "\n",
    "plt.sca(axs[1])\n",
    "plt.title('$+$')\n",
    "plt.axis('off')\n",
    "\n",
    "plt.sca(axs[2])\n",
    "ax = sns.heatmap(C2,cmap='RdBu_r',vmax = all_max,vmin = all_min,\n",
    "                 cbar_kws={\"orientation\": \"horizontal\"},\n",
    "                 yticklabels=np.arange(1,m+1), xticklabels=np.arange(1,n+1))\n",
    "ax.set_aspect(\"equal\")    \n",
    "plt.title('$C_2$')\n",
    "plt.yticks(rotation=0)\n",
    "\n",
    "plt.sca(axs[3])\n",
    "plt.title('$+$')\n",
    "plt.axis('off')\n",
    "\n",
    "plt.sca(axs[4])\n",
    "ax = sns.heatmap(C3,cmap='RdBu_r',vmax = all_max,vmin = all_min,\n",
    "                 cbar_kws={\"orientation\": \"horizontal\"},\n",
    "                 yticklabels=np.arange(1,m+1), xticklabels=np.arange(1,n+1))\n",
    "ax.set_aspect(\"equal\")\n",
    "plt.title('$C_3$')\n",
    "plt.yticks(rotation=0)\n",
    "\n",
    "plt.sca(axs[5])\n",
    "plt.title('$=$')\n",
    "plt.axis('off')\n",
    "\n",
    "plt.sca(axs[6])\n",
    "ax = sns.heatmap(C,cmap='RdBu_r',vmax = all_max,vmin = all_min,\n",
    "                 cbar_kws={\"orientation\": \"horizontal\"},\n",
    "                 yticklabels=np.arange(1,m+1), xticklabels=np.arange(1,n+1))\n",
    "ax.set_aspect(\"equal\")\n",
    "plt.title('$C$')\n",
    "plt.yticks(rotation=0)"
   ]
  },
  {
   "cell_type": "code",
   "execution_count": 10,
   "metadata": {},
   "outputs": [
    {
     "data": {
      "text/plain": [
       "(array([0.5, 1.5, 2.5, 3.5]),\n",
       " [Text(0, 0.5, '1'), Text(0, 1.5, '2'), Text(0, 2.5, '3'), Text(0, 3.5, '4')])"
      ]
     },
     "execution_count": 10,
     "metadata": {},
     "output_type": "execute_result"
    },
    {
     "data": {
      "image/png": "[encoded data removed]",
      "text/plain": [
       "<Figure size 1200x300 with 8 Axes>"
      ]
     },
     "metadata": {},
     "output_type": "display_data"
    }
   ],
   "source": [
    "#The inverse of matrix\n",
    "import numpy as np\n",
    "from numpy.linalg import inv\n",
    "from matplotlib import pyplot as plt\n",
    "import seaborn as sns\n",
    "'''\n",
    "    numpy.random.seed() 固定随机数发生器种子\n",
    "    numpy.random.uniform() 产生满足连续均匀分布的随机数\n",
    "    .reshape(n, n)  重塑形状(n: row,n:column)\n",
    "'''\n",
    "# Repeatability\n",
    "np.random.seed(0)\n",
    "# Generate matrix A\n",
    "n = 4\n",
    "A = np.random.uniform(-1.5,1.5,n*n).reshape(n, n)\n",
    "\n",
    "all_max = 1.5\n",
    "all_min = -1.5\n",
    "\n",
    "  \n",
    "'''\n",
    "    创建5幅图\n",
    "    生成热图，标签\n",
    "    标题，方块的大小\n",
    "'''\n",
    "# matrix inverse\n",
    "A_inverse = inv(A)\n",
    "\n",
    "fig, axs = plt.subplots(1, 5, figsize=(12, 3))\n",
    "#0\n",
    "plt.sca(axs[0])   \n",
    "ax = sns.heatmap(A,cmap='RdBu_r',vmax = all_max,vmin = all_min,\n",
    "                 cbar_kws={\"orientation\": \"horizontal\"},\n",
    "                 yticklabels=np.arange(1,n+1), xticklabels=np.arange(1,n+1),\n",
    "                 annot = True,fmt=\".2f\")\n",
    "ax.set_aspect(\"equal\")\n",
    "plt.title('$A$')\n",
    "plt.yticks(rotation=0) \n",
    "\n",
    "#1\n",
    "plt.sca(axs[1])\n",
    "plt.title('$@$')\n",
    "plt.axis('off')\n",
    "\n",
    "#2\n",
    "plt.sca(axs[2])\n",
    "ax = sns.heatmap(A_inverse,cmap='RdBu_r',vmax = all_max,vmin = all_min,\n",
    "                 cbar_kws={\"orientation\": \"horizontal\"},\n",
    "                 yticklabels=np.arange(1,n+1), xticklabels=np.arange(1,n+1),\n",
    "                 annot = True,fmt=\".2f\")\n",
    "ax.set_aspect(\"equal\")\n",
    "plt.title('$A^{-1}$')\n",
    "plt.yticks(rotation=0) \n",
    "\n",
    "#3\n",
    "plt.sca(axs[3])\n",
    "plt.title('$=$')\n",
    "plt.axis('off')\n",
    "\n",
    "#4\n",
    "plt.sca(axs[4])\n",
    "ax = sns.heatmap(A@A_inverse,cmap='RdBu_r',vmax = all_max,vmin = all_min,\n",
    "                 cbar_kws={\"orientation\": \"horizontal\"},\n",
    "                 yticklabels=np.arange(1,n+1), xticklabels=np.arange(1,n+1),\n",
    "                 annot = True,fmt=\".2f\")\n",
    "ax.set_aspect(\"equal\")\n",
    "plt.title('$I$')\n",
    "plt.yticks(rotation=0) "
   ]
  }
 ],
 "metadata": {
  "kernelspec": {
   "display_name": "base",
   "language": "python",
   "name": "python3"
  },
  "language_info": {
   "codemirror_mode": {
    "name": "ipython",
    "version": 3
   },
   "file_extension": ".py",
   "mimetype": "text/x-python",
   "name": "python",
   "nbconvert_exporter": "python",
   "pygments_lexer": "ipython3",
   "version": "3.11.5"
  }
 },
 "nbformat": 4,
 "nbformat_minor": 2
}
