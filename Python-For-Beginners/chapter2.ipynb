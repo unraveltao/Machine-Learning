{
 "cells": [
  {
   "cell_type": "markdown",
   "metadata": {},
   "source": [
    "# Python中三类数值"
   ]
  },
  {
   "cell_type": "code",
   "execution_count": 182,
   "metadata": {},
   "outputs": [
    {
     "name": "stdout",
     "output_type": "stream",
     "text": [
      "<class 'int'>\n",
      "<class 'float'>\n",
      "<class 'complex'>\n",
      "(8+8j) (8+9j)\n",
      "<class 'float'> 8800.0\n"
     ]
    }
   ],
   "source": [
    "x = 88     # 整数\n",
    "y = -8.88  # 浮点数\n",
    "z = 8 + 8j # 复数\n",
    "k = 8.8e3\n",
    "\n",
    "print(type(x))  # <class 'int'>\n",
    "print(type(y))  # <class 'float'>\n",
    "print(type(z))  # <class 'complex'>\n",
    "m = complex(real = 8,imag = 8)\n",
    "n = complex(8,9)\n",
    "print(m,n)\n",
    "print(type(k),k)"
   ]
  },
  {
   "cell_type": "markdown",
   "metadata": {},
   "source": [
    "## 数值转换"
   ]
  },
  {
   "cell_type": "code",
   "execution_count": 183,
   "metadata": {},
   "outputs": [
    {
     "name": "stdout",
     "output_type": "stream",
     "text": [
      "88\n",
      "8.0\n",
      "(8+0j)\n",
      "88.8\n"
     ]
    }
   ],
   "source": [
    "x = 88.8\n",
    "y = 8\n",
    "# 将浮点数转换为整数\n",
    "x_to_int = int(x)\n",
    "print(x_to_int)  # 88\n",
    "# 将整数转换为浮点数\n",
    "y_to_float = float(y)\n",
    "print(y_to_float)  # 8.0\n",
    "# 将整数转换为复数\n",
    "y_to_complex = complex(y)\n",
    "print(y_to_complex)  # (8+0j)\n",
    "# 将数字转换为字符串\n",
    "x_to_str = str(x)\n",
    "print(x_to_str)  # '88.8'"
   ]
  },
  {
   "cell_type": "markdown",
   "metadata": {},
   "source": [
    "## Math模块中的特殊数值"
   ]
  },
  {
   "cell_type": "code",
   "execution_count": 184,
   "metadata": {},
   "outputs": [
    {
     "name": "stdout",
     "output_type": "stream",
     "text": [
      "3.141592653589793\n",
      "2.718281828459045\n",
      "1.4142135623730951\n"
     ]
    }
   ],
   "source": [
    "import math\n",
    "\n",
    "print(math.pi)      # 输出π的值\n",
    "print(math.e)       # 输出e的值\n",
    "print(math.sqrt(2)) # 输出根号2的值"
   ]
  },
  {
   "cell_type": "markdown",
   "metadata": {},
   "source": [
    "## 字符串定义和操作"
   ]
  },
  {
   "cell_type": "code",
   "execution_count": 185,
   "metadata": {},
   "outputs": [
    {
     "name": "stdout",
     "output_type": "stream",
     "text": [
      "I am learning Python 101!\n",
      "Python is fun. Machine learning is fun too.\n",
      "Hey, James!\n",
      "Python is FUN! Python is FUN! Python is FUN! \n",
      "123123123\n",
      "456123\n",
      "<class 'str'>\n"
     ]
    }
   ],
   "source": [
    "str1 = 'I am learning Python 101!'\n",
    "print(str1)\n",
    "\n",
    "str2 = \"Python is fun. Machine learning is fun too.\"\n",
    "print(str2)\n",
    "\n",
    "# 使用加号 + 将多个字符串连接起来\n",
    "str4 = 'Hey, ' + 'James!'    # 'Hey, James!'\n",
    "print(str4)                  # 使用乘号*将一个字符串复制多次\n",
    "\n",
    "\n",
    "str5 = 'Python is FUN! '     # 字符串最后有一个空格\n",
    "str6 = str5 * 3              # 'Python is FUN! Python is FUN! Python is FUN!'\n",
    "print(str6)  \n",
    "\n",
    "# 字符串中的数字仅仅是字符\n",
    "str7 = '123'\n",
    "str8 = str7 * 3\n",
    "print(str8)  \n",
    "\n",
    "str9 = '456'\n",
    "str10 = str9 + str7\n",
    "print(str10)  \n",
    "print(type(str10))"
   ]
  },
  {
   "cell_type": "markdown",
   "metadata": {},
   "source": [
    "## 字符串索引和切片"
   ]
  },
  {
   "cell_type": "code",
   "execution_count": 186,
   "metadata": {},
   "outputs": [
    {
     "name": "stdout",
     "output_type": "stream",
     "text": [
      "字符串的长度为： 11\n",
      "字符：H，索引：0\n",
      "字符：e，索引：1\n",
      "字符：y，索引：2\n",
      "字符：,，索引：3\n",
      "字符： ，索引：4\n",
      "字符：J，索引：5\n",
      "字符：a，索引：6\n",
      "字符：m，索引：7\n",
      "字符：e，索引：8\n",
      "字符：s，索引：9\n",
      "字符：!，索引：10\n",
      "H\n",
      "e\n",
      "!\n",
      "s\n",
      "Hey\n",
      "ey, J\n",
      "Hy ae!\n",
      "!semaJ ,yeH\n"
     ]
    }
   ],
   "source": [
    "greeting_str = 'Hey, James!'\n",
    "# 打印字符串长度\n",
    "print('字符串的长度为：',len(greeting_str))\n",
    "\n",
    "# 打印每个字符和对应的索引\n",
    "for index, char in enumerate(greeting_str):\n",
    "    print(f\"字符：{char}，索引：{index}\")\n",
    "\n",
    "# 单个字符索引\n",
    "print(greeting_str[0])\n",
    "print(greeting_str[1])\n",
    "print(greeting_str[-1])\n",
    "print(greeting_str[-2])\n",
    "\n",
    "# 切片\n",
    "print(greeting_str[:3])         # 取出前3个字符，索引为0、1、2\n",
    "print(greeting_str[1:6])        # 取出索引1、2、3、4、5，不含0，不含6\n",
    "print(greeting_str[::2])        # 指定步长2，取出第0、2、4 ...\n",
    "print(greeting_str[::-1])       # 指定步长-1，倒序"
   ]
  },
  {
   "cell_type": "markdown",
   "metadata": {},
   "source": [
    "## 将数据插入字符串"
   ]
  },
  {
   "cell_type": "code",
   "execution_count": 187,
   "metadata": {},
   "outputs": [
    {
     "name": "stdout",
     "output_type": "stream",
     "text": [
      "James has a height of 181.18 cm.\n",
      "James has a height of 181.180 cm.\n",
      "James has a height of 181.180 cm.\n",
      "James has a height of 181.180 cm.\n"
     ]
    }
   ],
   "source": [
    "name = 'James'\n",
    "height = 181.18\n",
    "\n",
    "# 使用 + 运算符\n",
    "str_1 = name + ' has a height of ' + str(height) + ' cm.'\n",
    "print(str_1)\n",
    "\n",
    "# 使用 % \n",
    "str_2 = '%s has a height of %.3f cm.' %(name, height)\n",
    "print(str_2)\n",
    "\n",
    "# 使用 str.format()\n",
    "str_3 = '{} has a height of {:.3f} cm.'.format(name, height)\n",
    "print(str_3)\n",
    "\n",
    "# 使用f-strings\n",
    "str_4 = f'{name} has a height of {height:.3f} cm.'\n",
    "print(str_4)"
   ]
  },
  {
   "cell_type": "markdown",
   "metadata": {},
   "source": [
    "## 常用%占位符类型"
   ]
  },
  {
   "cell_type": "code",
   "execution_count": 188,
   "metadata": {},
   "outputs": [
    {
     "name": "stdout",
     "output_type": "stream",
     "text": [
      "The first letter of Python is P\n",
      "Welcome to the world of Python!\n",
      "Python has 6 letters.\n",
      "Rounding 1.8888 to 2 decimal places is 1.89\n",
      "12 in octal is 14\n",
      "12000 is 1.20e+04\n"
     ]
    }
   ],
   "source": [
    "print('The first letter of Python is %c' % 'P')\n",
    "\n",
    "print('Welcome to the world of %s!' % 'Python')\n",
    "\n",
    "print('Python has %i letters.' % 6)\n",
    "\n",
    "number = 1.8888\n",
    "print(\"Rounding %.4f to 2 decimal places is %.2f\" % (number, number))\n",
    "\n",
    "number = 12\n",
    "print(\"%i in octal is %o\" % (number, number))\n",
    "\n",
    "number = 12000\n",
    "print(\"%i is %.2e\" % (number, number))"
   ]
  },
  {
   "cell_type": "markdown",
   "metadata": {},
   "source": [
    "## 常用.format() 示例"
   ]
  },
  {
   "cell_type": "code",
   "execution_count": 189,
   "metadata": {},
   "outputs": [
    {
     "data": {
      "text/plain": [
       "'3.14'"
      ]
     },
     "execution_count": 189,
     "metadata": {},
     "output_type": "execute_result"
    }
   ],
   "source": [
    "\"{:.2f}\".format(3.1415926)"
   ]
  },
  {
   "cell_type": "code",
   "execution_count": 190,
   "metadata": {},
   "outputs": [
    {
     "data": {
      "text/plain": [
       "'314.159260%'"
      ]
     },
     "execution_count": 190,
     "metadata": {},
     "output_type": "execute_result"
    }
   ],
   "source": [
    "\"{:%}\".format(3.1415926) #'314.159260%"
   ]
  },
  {
   "cell_type": "code",
   "execution_count": 191,
   "metadata": {},
   "outputs": [
    {
     "data": {
      "text/plain": [
       "'314.16%'"
      ]
     },
     "execution_count": 191,
     "metadata": {},
     "output_type": "execute_result"
    }
   ],
   "source": [
    "\"{:.2%}\".format(3.1415926) #'314.159260%'"
   ]
  },
  {
   "cell_type": "code",
   "execution_count": 192,
   "metadata": {},
   "outputs": [
    {
     "data": {
      "text/plain": [
       "'3.14e+00'"
      ]
     },
     "execution_count": 192,
     "metadata": {},
     "output_type": "execute_result"
    }
   ],
   "source": [
    "\"{:.2e}\".format(3.1415926) #'3.14e+00'"
   ]
  },
  {
   "cell_type": "code",
   "execution_count": 193,
   "metadata": {},
   "outputs": [
    {
     "data": {
      "text/plain": [
       "'3,141.5926'"
      ]
     },
     "execution_count": 193,
     "metadata": {},
     "output_type": "execute_result"
    }
   ],
   "source": [
    "\"{:,}\".format(3.1415926*1000) #'3,141.5926'"
   ]
  },
  {
   "cell_type": "code",
   "execution_count": 194,
   "metadata": {},
   "outputs": [
    {
     "name": "stdout",
     "output_type": "stream",
     "text": [
      "2024-03-24 14:25\n",
      "24/03/24 14:25:22\n",
      "10010\n",
      "130\n",
      "44\n"
     ]
    }
   ],
   "source": [
    "import datetime\n",
    "now = datetime.datetime.now()\n",
    "print(f'{now:%Y-%m-%d %H:%M}')\n",
    "print(f'{now:%d/%m/%y %H:%M:%S}')\n",
    "\n",
    "pi = 3.141592653589793238462643\n",
    "f'{pi:.2f}'\n",
    "\n",
    "pi = 3.141592653589793238462643\n",
    "f'{pi * 1000:.2e}'\n",
    "\n",
    "a = 18\n",
    "print(f\"{a:b}\")         # binary\n",
    "\n",
    "a = 88\n",
    "print(f\"{a:o}\")         # octal\n",
    "\n",
    "a = 68\n",
    "print(f\"{a:x}\")         # hexadecimal\n",
    "\n"
   ]
  },
  {
   "cell_type": "markdown",
   "metadata": {},
   "source": [
    "## 列表索引和切片"
   ]
  },
  {
   "cell_type": "code",
   "execution_count": 195,
   "metadata": {},
   "outputs": [
    {
     "name": "stdout",
     "output_type": "stream",
     "text": [
      "列表长度为: 7\n",
      "元素：1，索引：0，类型：<class 'int'>\n",
      "元素：1.0，索引：1，类型：<class 'float'>\n",
      "元素：1，索引：2，类型：<class 'str'>\n",
      "元素：True，索引：3，类型：<class 'bool'>\n",
      "元素：[1, 1.0, '1']，索引：4，类型：<class 'list'>\n",
      "元素：{1}，索引：5，类型：<class 'set'>\n",
      "元素：{1: 1.0}，索引：6，类型：<class 'dict'>\n",
      "1\n",
      "1.0\n",
      "{1: 1.0}\n",
      "{1}\n",
      "[1, 1.0, '1']\n",
      "[1.0, '1', True]\n",
      "[1, '1', [1, 1.0, '1'], {1: 1.0}]\n",
      "[{1: 1.0}, {1}, [1, 1.0, '1'], True, '1', 1.0, 1]\n",
      "1.0\n"
     ]
    }
   ],
   "source": [
    "# 创建一个混合列表\n",
    "my_list = [1, 1.0, '1', True, [1, 1.0, '1'], {1}, {1:1.0}]\n",
    "print('列表长度为:',len(my_list))\n",
    "\n",
    "# 打印每个元素和对应的序号\n",
    "for index, item in enumerate(my_list):\n",
    "    type_i = type(item)\n",
    "    print(f\"元素：{item}，索引：{index}，类型：{type_i}\")\n",
    "\n",
    "# 列表索引\n",
    "print(my_list[0])\n",
    "print(my_list[1])\n",
    "\n",
    "print(my_list[-1])\n",
    "print(my_list[-2])\n",
    "    \n",
    "# 列表切片\n",
    "# 取出前3个元素，索引为0、1、2\n",
    "print(my_list[:3])\n",
    "\n",
    "# 取出索引1、2、3，不含0，不含4\n",
    "print(my_list[1:4])\n",
    "\n",
    "# 指定步长2，取出第0、2、4、6\n",
    "print(my_list[::2])\n",
    "\n",
    "# 指定步长-1，倒序\n",
    "print(my_list[::-1])\n",
    "\n",
    "# 提取列表中的列表某个元素\n",
    "print(my_list[4][1])"
   ]
  },
  {
   "cell_type": "markdown",
   "metadata": {},
   "source": [
    "## 列表常用方法、操作"
   ]
  },
  {
   "cell_type": "code",
   "execution_count": 196,
   "metadata": {},
   "outputs": [
    {
     "name": "stdout",
     "output_type": "stream",
     "text": [
      "[1, 1.0, '12ab', True, [1, 1.0, '1'], {1}, {1: 1.0}]\n",
      "[1, 1.0, '123', True, [1, 1.0, '1'], {1}, {1: 1.0}]\n",
      "[1, 1.0, 'inserted', '123', True, [1, 1.0, '1'], {1}, {1: 1.0}]\n",
      "[1, 1.0, 'inserted', '123', True, [1, 1.0, '1'], {1}, {1: 1.0}, 'tail']\n",
      "[1, 1.0, 'inserted', '123', True, [1, 1.0, '1'], {1}, {1: 1.0}]\n",
      "[1, 1.0, 'inserted', True, [1, 1.0, '1'], {1}, {1: 1.0}]\n",
      "No\n",
      "[{1: 1.0}, {1}, [1, 1.0, '1'], True, 'inserted', 1.0, 1]\n",
      "J_a_m_e_s\n"
     ]
    }
   ],
   "source": [
    "# 创建一个混合列表\n",
    "my_list = [1, 1.0, '12ab', True, [1, 1.0, '1'], {1}, {1:1.0}]\n",
    "print(my_list)\n",
    "\n",
    "# 修改某个元素\n",
    "my_list[2] = '123'\n",
    "print(my_list)\n",
    "\n",
    "# 在列表指定位置插入元素\n",
    "my_list.insert(2, 'inserted')\n",
    "print(my_list)\n",
    "\n",
    "# 在列表尾部插入元素\n",
    "my_list.append('tail')\n",
    "print(my_list)\n",
    "\n",
    "# 通过索引删除\n",
    "del my_list[-1]\n",
    "print(my_list)\n",
    "\n",
    "# 删除某个元素\n",
    "my_list.remove('123')\n",
    "print(my_list)\n",
    "\n",
    "# 判断一个元素是否在列表中\n",
    "if '123' in my_list:\n",
    "    print(\"Yes\")\n",
    "else:\n",
    "    print(\"No\")\n",
    "    \n",
    "# 列表翻转\n",
    "my_list.reverse()\n",
    "print(my_list) \n",
    "\n",
    "# 将列表用所有字符连接，连接符为下划线 _\n",
    "letters = ['J', 'a', 'm', 'e', 's']\n",
    "word = '_'.join(letters)\n",
    "print(word)"
   ]
  },
  {
   "cell_type": "markdown",
   "metadata": {},
   "source": [
    "## 拆包、打包"
   ]
  },
  {
   "cell_type": "code",
   "execution_count": 197,
   "metadata": {},
   "outputs": [
    {
     "name": "stdout",
     "output_type": "stream",
     "text": [
      "[1, 2, 3, 4, 5, 6, 7, 8]\n",
      "[2, 3, 4, 5, 6, 7, 8]\n",
      "[2, 3, 4, 5, 6, 7]\n",
      "[1, 2, 3, 4, 5, 6, 7]\n",
      "[1, 2, 3, 4, 5, 6, 7, 8]\n"
     ]
    }
   ],
   "source": [
    "# 拆包\n",
    "# 定义列表\n",
    "list_0 = [0, 1, 2, 3, 4, 5, 6, 7, 8]\n",
    "\n",
    "first, *list_rest = list_0\n",
    "print(list_rest) # [1, 2, 3, 4, 5, 6, 7, 8]  first = 0\n",
    "first, second, *list_rest = list_0\n",
    "print(list_rest) # [2, 3, 4, 5, 6, 7, 8]\n",
    "\n",
    "first, second, *list_rest, last = list_0\n",
    "print(list_rest) # [2, 3, 4, 5, 6, 7]\n",
    "\n",
    "first, *list_rest, _ = list_0\n",
    "print(list_rest) # [1, 2, 3, 4, 5, 6, 7]\n",
    "\n",
    "\n",
    "# 打包\n",
    "list1 = [1, 2, 3, 4, 5]\n",
    "list2 = [6, 7, 8]\n",
    "# 合并\n",
    "combined_list = [*list1, *list2]\n",
    "print(combined_list) # [1, 2, 3, 4, 5, 6, 7, 8]"
   ]
  },
  {
   "cell_type": "code",
   "execution_count": 198,
   "metadata": {},
   "outputs": [
    {
     "name": "stdout",
     "output_type": "stream",
     "text": [
      "['b', 'c']\n",
      "[2, 3]\n"
     ]
    }
   ],
   "source": [
    "# 定义字符串\n",
    "string_0 = 'abcd'\n",
    "first, *str_rest, last = string_0\n",
    "print(str_rest) # ['b', 'c']\n",
    "\n",
    "# 定义元组\n",
    "tuple_0 = (1,2,3,4)\n",
    "first, *tuple_rest, last = tuple_0\n",
    "print(tuple_rest) # [2, 3]\n",
    "\n"
   ]
  },
  {
   "cell_type": "markdown",
   "metadata": {},
   "source": [
    "## 嵌套列表浅复制 vs 深复制"
   ]
  },
  {
   "cell_type": "code",
   "execution_count": 199,
   "metadata": {},
   "outputs": [
    {
     "name": "stdout",
     "output_type": "stream",
     "text": [
      "['a', 'b', 3, 4]\n",
      "['a', 'b', 3, 4]\n",
      "[1, 2, 'c', 'd']\n"
     ]
    }
   ],
   "source": [
    "list1 = [1, 2, 3, 4]\n",
    "# 赋值，视图\n",
    "# 视图：共享同一个地址，修改其中一个列表会影响另一个列表\n",
    "list2 = list1 \n",
    "# 拷贝，副本 (浅拷贝)\n",
    "# 副本：生成一个独立的地址，修改副本原先的不受影响\n",
    "list3 = list1.copy()\n",
    "list2[0] = 'a'\n",
    "list2[1] = 'b'\n",
    "list3[2] = 'c'\n",
    "list3[3] = 'd'\n",
    "print(list1)\n",
    "print(list2)\n",
    "print(list3)\n"
   ]
  },
  {
   "cell_type": "code",
   "execution_count": 202,
   "metadata": {},
   "outputs": [
    {
     "name": "stdout",
     "output_type": "stream",
     "text": [
      "*******原始list******\n",
      "[1, 2, 3, [4, 5]]\n",
      "******新list******\n",
      "[1, 2, 3, ['X3', 5]]\n",
      "[1, 2, 'worked_0', ['deep', 5]]\n",
      "[1, 2, 'worked_1', ['X3', 5]]\n",
      "[1, 2, 'worked_2', ['X3', 5]]\n",
      "[1, 2, 'worked_3', ['X3', 5]]\n",
      "[1, 2, 'worked_4', ['X3', 5]]\n"
     ]
    }
   ],
   "source": [
    "\n",
    "import copy\n",
    "\n",
    "list1 = [1, 2, 3, [4, 5]]\n",
    "print('*******原始list******')\n",
    "print(list1)\n",
    "# 深复制，适用于嵌套列表\n",
    "list_deep = copy.deepcopy(list1)   \n",
    "# 只深复制一层\n",
    "list2 = list1.copy() \n",
    "list3 = list1[:]  \n",
    "list4 = list(list1)\n",
    "list5 = [*list1]\n",
    "# 修改元素\n",
    "list_deep[3][0] = 'deep'\n",
    "list_deep[2] = 'worked_0'\n",
    "list2[3][0] = 'abc'\n",
    "list2[2] = 'worked_1'\n",
    "list3[3][0] = 'X1'\n",
    "list3[2] = 'worked_2'\n",
    "list4[3][0] = 'X2'\n",
    "list4[2] = 'worked_3'\n",
    "list5[3][0] = 'X3'\n",
    "list5[2] = 'worked_4'\n",
    "print('******新list******')\n",
    "print(list1) \n",
    "print(list_deep)\n",
    "print(list2)  \n",
    "print(list3)\n",
    "print(list4)\n",
    "print(list5)\n"
   ]
  }
 ],
 "metadata": {
  "kernelspec": {
   "display_name": "base",
   "language": "python",
   "name": "python3"
  },
  "language_info": {
   "codemirror_mode": {
    "name": "ipython",
    "version": 3
   },
   "file_extension": ".py",
   "mimetype": "text/x-python",
   "name": "python",
   "nbconvert_exporter": "python",
   "pygments_lexer": "ipython3",
   "version": "3.11.5"
  }
 },
 "nbformat": 4,
 "nbformat_minor": 2
}
